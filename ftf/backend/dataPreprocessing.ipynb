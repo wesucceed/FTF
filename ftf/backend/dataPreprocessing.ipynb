{
 "cells": [
  {
   "cell_type": "markdown",
   "metadata": {},
   "source": [
    "### Data Preprocessing Module\n",
    "\n",
    "This module includes the class `DataPrep` and the functions that go inside it.\n",
    "Each function will help with specific tasks in data preprocessing and getting the data ready for feature engineering \n",
    "and training the model. \n",
    "\n",
    "We are going to use resources that will help us with data manipulation. This includes libraries such as NumPy and Pandas.\n",
    "\n",
    "\n",
    "There will be specific description for each function and their usage.\n",
    "\n",
    "List of functions in this file:\n"
   ]
  },
  {
   "cell_type": "code",
   "execution_count": 75,
   "metadata": {},
   "outputs": [],
   "source": [
    "import numpy as np\n",
    "import pandas as pd"
   ]
  },
  {
   "cell_type": "markdown",
   "metadata": {},
   "source": [
    "### Extract Date\n",
    "This function extracts the year, month, day, and quarter from the `Date` column in the DataFrame that is passed to it as a parameter. \n",
    "\n",
    "The properties related to date are added in order for better readability of the DataFrame and columns."
   ]
  },
  {
   "cell_type": "code",
   "execution_count": 112,
   "metadata": {
    "tags": []
   },
   "outputs": [],
   "source": [
    "class DataPrep:\n",
    "    \n",
    "    def __init__(self, df):\n",
    "        self.df = df\n",
    "\n",
    "\n",
    "    def extract_date(self):\n",
    "        \"\"\"\n",
    "        Extract the date from the DataFrame and merge the columns back into the DataFrame\n",
    "\n",
    "        Parameters: \n",
    "            self.df (DataFrame): DataFrame containing the stock price data.\n",
    "\n",
    "        Parameter constraints:\n",
    "            Should have a column 'date'\n",
    "            The format of the date should be valid\n",
    "\n",
    "        Returns:\n",
    "            DataFrame: A new DataFrame with 'year', 'month', 'day, and 'quarter' added as new columns\n",
    "        \"\"\"\n",
    "        # Setting the Date column to Panda's datetime format\n",
    "        self.df['Date'] = pd.to_datetime(self.df['Date'])\n",
    "\n",
    "        #Extracting the year and adding it after 'Date' column\n",
    "        self.df['Year'] = self.df['Date'].dt.year\n",
    "        index_date = self.df.columns.get_loc('Date')\n",
    "        self.df.insert(index_date + 1, 'Year', self.df.pop('Year'))\n",
    "\n",
    "        # Extracting the month and adding it after 'Year' column\n",
    "        self.df['Month'] = self.df['Date'].dt.month\n",
    "        index_year = self.df.columns.get_loc('Year')\n",
    "        self.df.insert(index_year + 1, 'Month', self.df.pop('Month'))\n",
    "\n",
    "        # Extracting the day and adding it after 'Month' column\n",
    "        self.df['Day of Week'] = self.df['Date'].dt.dayofweek\n",
    "        index_month = self.df.columns.get_loc('Month')\n",
    "        self.df.insert(index_month + 1, 'Day of Week', self.df.pop('Day of Week'))\n",
    "\n",
    "        # Extracting the quarter and adding it after 'Day' column\n",
    "        self.df['Quarter'] = self.df['Date'].dt.quarter\n",
    "        index_day = self.df.columns.get_loc('Day of Week')\n",
    "        self.df.insert(index_day + 1, 'Quarter', self.df.pop('Quarter'))\n",
    "\n",
    "        return self.df\n",
    "    \n",
    "    #The definition of the function extract_changes\n",
    "    def extact_changes(self):\n",
    "        \"\"\" \n",
    "        Extracts the precentage, daily, and difference changes of high, low, volume, and close in the DataFrame. \n",
    "\n",
    "        Parameters: \n",
    "            self.df (DataFrame): DataFrame containing the stock price data.\n",
    "        \n",
    "        Parameter Constraints:\n",
    "            Should have the columns high, low, volume, and close\n",
    "        \n",
    "        Returns:\n",
    "            A new DataFrame with the columns 'Daily Range', 'Volume Change', and 'Price Increase' added to previous DataFrame  \n",
    "        \"\"\"\n",
    "\n",
    "        self.df['Daily Range'] = self.df['High'] - self.df['Low']\n",
    "        index_low = self.df.columns.get_loc('Low')\n",
    "        self.df.insert(index_low + 1, 'Daily Range', self.df.pop('Daily Range'))\n",
    "        \n",
    "        self.df['Volume Change'] = self.df['Volume'].pct_change()\n",
    "        index_volume = self.df.columns.get_loc('Volume')\n",
    "        self.df.insert(index_volume + 1, 'Volume Change', self.df.pop('Volume Change'))\n",
    "\n",
    "        self.df['Price Increase'] = (self.df['Close'] > self.df['Close'].shift(1)).astype(int)\n",
    "        index_close = self.df.columns.get_loc('Close')\n",
    "        self.df.insert(index_close + 1, 'Price Increase', self.df.pop('Price Increase'))\n",
    "\n",
    "        return self.df\n",
    "\n"
   ]
  },
  {
   "cell_type": "markdown",
   "metadata": {},
   "source": [
    "### _The code block below is for testing the class and its functions_\n"
   ]
  },
  {
   "cell_type": "code",
   "execution_count": 111,
   "metadata": {},
   "outputs": [
    {
     "ename": "KeyError",
     "evalue": "'Day'",
     "output_type": "error",
     "traceback": [
      "\u001b[1;31m---------------------------------------------------------------------------\u001b[0m",
      "\u001b[1;31mKeyError\u001b[0m                                  Traceback (most recent call last)",
      "File \u001b[1;32m~\\AppData\\Roaming\\Python\\Python39\\site-packages\\pandas\\core\\indexes\\base.py:3653\u001b[0m, in \u001b[0;36mIndex.get_loc\u001b[1;34m(self, key)\u001b[0m\n\u001b[0;32m   3652\u001b[0m \u001b[39mtry\u001b[39;00m:\n\u001b[1;32m-> 3653\u001b[0m     \u001b[39mreturn\u001b[39;00m \u001b[39mself\u001b[39;49m\u001b[39m.\u001b[39;49m_engine\u001b[39m.\u001b[39;49mget_loc(casted_key)\n\u001b[0;32m   3654\u001b[0m \u001b[39mexcept\u001b[39;00m \u001b[39mKeyError\u001b[39;00m \u001b[39mas\u001b[39;00m err:\n",
      "File \u001b[1;32m~\\AppData\\Roaming\\Python\\Python39\\site-packages\\pandas\\_libs\\index.pyx:147\u001b[0m, in \u001b[0;36mpandas._libs.index.IndexEngine.get_loc\u001b[1;34m()\u001b[0m\n",
      "File \u001b[1;32m~\\AppData\\Roaming\\Python\\Python39\\site-packages\\pandas\\_libs\\index.pyx:176\u001b[0m, in \u001b[0;36mpandas._libs.index.IndexEngine.get_loc\u001b[1;34m()\u001b[0m\n",
      "File \u001b[1;32mpandas\\_libs\\hashtable_class_helper.pxi:7080\u001b[0m, in \u001b[0;36mpandas._libs.hashtable.PyObjectHashTable.get_item\u001b[1;34m()\u001b[0m\n",
      "File \u001b[1;32mpandas\\_libs\\hashtable_class_helper.pxi:7088\u001b[0m, in \u001b[0;36mpandas._libs.hashtable.PyObjectHashTable.get_item\u001b[1;34m()\u001b[0m\n",
      "\u001b[1;31mKeyError\u001b[0m: 'Day'",
      "\nThe above exception was the direct cause of the following exception:\n",
      "\u001b[1;31mKeyError\u001b[0m                                  Traceback (most recent call last)",
      "\u001b[1;32mc:\\Users\\hamed\\directory\\Projects\\FTF\\ftfvenv\\FTF\\ftf\\backend\\dataPreprocessing.ipynb Cell 6\u001b[0m in \u001b[0;36m<cell line: 8>\u001b[1;34m()\u001b[0m\n\u001b[0;32m      <a href='vscode-notebook-cell:/c%3A/Users/hamed/directory/Projects/FTF/ftfvenv/FTF/ftf/backend/dataPreprocessing.ipynb#X12sZmlsZQ%3D%3D?line=0'>1</a>\u001b[0m df \u001b[39m=\u001b[39m pd\u001b[39m.\u001b[39mDataFrame({\u001b[39m'\u001b[39m\u001b[39mDate\u001b[39m\u001b[39m'\u001b[39m : [\u001b[39m'\u001b[39m\u001b[39m2023-09-15\u001b[39m\u001b[39m'\u001b[39m, \u001b[39m'\u001b[39m\u001b[39m2023-09-16\u001b[39m\u001b[39m'\u001b[39m, \u001b[39m'\u001b[39m\u001b[39m2023-09-17\u001b[39m\u001b[39m'\u001b[39m],\n\u001b[0;32m      <a href='vscode-notebook-cell:/c%3A/Users/hamed/directory/Projects/FTF/ftfvenv/FTF/ftf/backend/dataPreprocessing.ipynb#X12sZmlsZQ%3D%3D?line=1'>2</a>\u001b[0m                    \u001b[39m'\u001b[39m\u001b[39mHigh\u001b[39m\u001b[39m'\u001b[39m : [\u001b[39m21\u001b[39m,\u001b[39m22\u001b[39m,\u001b[39m23\u001b[39m],\n\u001b[0;32m      <a href='vscode-notebook-cell:/c%3A/Users/hamed/directory/Projects/FTF/ftfvenv/FTF/ftf/backend/dataPreprocessing.ipynb#X12sZmlsZQ%3D%3D?line=2'>3</a>\u001b[0m                    \u001b[39m'\u001b[39m\u001b[39mLow\u001b[39m\u001b[39m'\u001b[39m : [\u001b[39m15\u001b[39m,\u001b[39m16\u001b[39m,\u001b[39m17\u001b[39m],\n\u001b[0;32m      <a href='vscode-notebook-cell:/c%3A/Users/hamed/directory/Projects/FTF/ftfvenv/FTF/ftf/backend/dataPreprocessing.ipynb#X12sZmlsZQ%3D%3D?line=3'>4</a>\u001b[0m                    \u001b[39m'\u001b[39m\u001b[39mVolume\u001b[39m\u001b[39m'\u001b[39m : [\u001b[39m1200\u001b[39m,\u001b[39m2300\u001b[39m,\u001b[39m2400\u001b[39m],\n\u001b[0;32m      <a href='vscode-notebook-cell:/c%3A/Users/hamed/directory/Projects/FTF/ftfvenv/FTF/ftf/backend/dataPreprocessing.ipynb#X12sZmlsZQ%3D%3D?line=4'>5</a>\u001b[0m                    \u001b[39m'\u001b[39m\u001b[39mClose\u001b[39m\u001b[39m'\u001b[39m : [\u001b[39m22\u001b[39m,\u001b[39m26\u001b[39m,\u001b[39m29\u001b[39m]\n\u001b[0;32m      <a href='vscode-notebook-cell:/c%3A/Users/hamed/directory/Projects/FTF/ftfvenv/FTF/ftf/backend/dataPreprocessing.ipynb#X12sZmlsZQ%3D%3D?line=5'>6</a>\u001b[0m                    })\n\u001b[1;32m----> <a href='vscode-notebook-cell:/c%3A/Users/hamed/directory/Projects/FTF/ftfvenv/FTF/ftf/backend/dataPreprocessing.ipynb#X12sZmlsZQ%3D%3D?line=7'>8</a>\u001b[0m df0 \u001b[39m=\u001b[39m DataPrep(df)\u001b[39m.\u001b[39;49mextract_date()\n\u001b[0;32m      <a href='vscode-notebook-cell:/c%3A/Users/hamed/directory/Projects/FTF/ftfvenv/FTF/ftf/backend/dataPreprocessing.ipynb#X12sZmlsZQ%3D%3D?line=8'>9</a>\u001b[0m df0 \u001b[39m=\u001b[39m DataPrep(df)\u001b[39m.\u001b[39mextact_changes()\n\u001b[0;32m     <a href='vscode-notebook-cell:/c%3A/Users/hamed/directory/Projects/FTF/ftfvenv/FTF/ftf/backend/dataPreprocessing.ipynb#X12sZmlsZQ%3D%3D?line=9'>10</a>\u001b[0m df0\n",
      "\u001b[1;32mc:\\Users\\hamed\\directory\\Projects\\FTF\\ftfvenv\\FTF\\ftf\\backend\\dataPreprocessing.ipynb Cell 6\u001b[0m in \u001b[0;36mDataPrep.extract_date\u001b[1;34m(self)\u001b[0m\n\u001b[0;32m     <a href='vscode-notebook-cell:/c%3A/Users/hamed/directory/Projects/FTF/ftfvenv/FTF/ftf/backend/dataPreprocessing.ipynb#X12sZmlsZQ%3D%3D?line=34'>35</a>\u001b[0m \u001b[39mself\u001b[39m\u001b[39m.\u001b[39mdf[\u001b[39m'\u001b[39m\u001b[39mDay of Week\u001b[39m\u001b[39m'\u001b[39m] \u001b[39m=\u001b[39m \u001b[39mself\u001b[39m\u001b[39m.\u001b[39mdf[\u001b[39m'\u001b[39m\u001b[39mDate\u001b[39m\u001b[39m'\u001b[39m]\u001b[39m.\u001b[39mdt\u001b[39m.\u001b[39mdayofweek\n\u001b[0;32m     <a href='vscode-notebook-cell:/c%3A/Users/hamed/directory/Projects/FTF/ftfvenv/FTF/ftf/backend/dataPreprocessing.ipynb#X12sZmlsZQ%3D%3D?line=35'>36</a>\u001b[0m index_month \u001b[39m=\u001b[39m \u001b[39mself\u001b[39m\u001b[39m.\u001b[39mdf\u001b[39m.\u001b[39mcolumns\u001b[39m.\u001b[39mget_loc(\u001b[39m'\u001b[39m\u001b[39mMonth\u001b[39m\u001b[39m'\u001b[39m)\n\u001b[1;32m---> <a href='vscode-notebook-cell:/c%3A/Users/hamed/directory/Projects/FTF/ftfvenv/FTF/ftf/backend/dataPreprocessing.ipynb#X12sZmlsZQ%3D%3D?line=36'>37</a>\u001b[0m \u001b[39mself\u001b[39m\u001b[39m.\u001b[39mdf\u001b[39m.\u001b[39minsert(index_month \u001b[39m+\u001b[39m \u001b[39m1\u001b[39m, \u001b[39m'\u001b[39m\u001b[39mDay\u001b[39m\u001b[39m'\u001b[39m, \u001b[39mself\u001b[39;49m\u001b[39m.\u001b[39;49mdf\u001b[39m.\u001b[39;49mpop(\u001b[39m'\u001b[39;49m\u001b[39mDay\u001b[39;49m\u001b[39m'\u001b[39;49m))\n\u001b[0;32m     <a href='vscode-notebook-cell:/c%3A/Users/hamed/directory/Projects/FTF/ftfvenv/FTF/ftf/backend/dataPreprocessing.ipynb#X12sZmlsZQ%3D%3D?line=38'>39</a>\u001b[0m \u001b[39m# Extracting the quarter and adding it after 'Day' column\u001b[39;00m\n\u001b[0;32m     <a href='vscode-notebook-cell:/c%3A/Users/hamed/directory/Projects/FTF/ftfvenv/FTF/ftf/backend/dataPreprocessing.ipynb#X12sZmlsZQ%3D%3D?line=39'>40</a>\u001b[0m \u001b[39mself\u001b[39m\u001b[39m.\u001b[39mdf[\u001b[39m'\u001b[39m\u001b[39mQuarter\u001b[39m\u001b[39m'\u001b[39m] \u001b[39m=\u001b[39m \u001b[39mself\u001b[39m\u001b[39m.\u001b[39mdf[\u001b[39m'\u001b[39m\u001b[39mDate\u001b[39m\u001b[39m'\u001b[39m]\u001b[39m.\u001b[39mdt\u001b[39m.\u001b[39mquarter\n",
      "File \u001b[1;32m~\\AppData\\Roaming\\Python\\Python39\\site-packages\\pandas\\core\\frame.py:5543\u001b[0m, in \u001b[0;36mDataFrame.pop\u001b[1;34m(self, item)\u001b[0m\n\u001b[0;32m   5502\u001b[0m \u001b[39mdef\u001b[39;00m \u001b[39mpop\u001b[39m(\u001b[39mself\u001b[39m, item: Hashable) \u001b[39m-\u001b[39m\u001b[39m>\u001b[39m Series:\n\u001b[0;32m   5503\u001b[0m     \u001b[39m\"\"\"\u001b[39;00m\n\u001b[0;32m   5504\u001b[0m \u001b[39m    Return item and drop from frame. Raise KeyError if not found.\u001b[39;00m\n\u001b[0;32m   5505\u001b[0m \n\u001b[1;32m   (...)\u001b[0m\n\u001b[0;32m   5541\u001b[0m \u001b[39m    3  monkey        NaN\u001b[39;00m\n\u001b[0;32m   5542\u001b[0m \u001b[39m    \"\"\"\u001b[39;00m\n\u001b[1;32m-> 5543\u001b[0m     \u001b[39mreturn\u001b[39;00m \u001b[39msuper\u001b[39;49m()\u001b[39m.\u001b[39;49mpop(item\u001b[39m=\u001b[39;49mitem)\n",
      "File \u001b[1;32m~\\AppData\\Roaming\\Python\\Python39\\site-packages\\pandas\\core\\generic.py:853\u001b[0m, in \u001b[0;36mNDFrame.pop\u001b[1;34m(self, item)\u001b[0m\n\u001b[0;32m    852\u001b[0m \u001b[39mdef\u001b[39;00m \u001b[39mpop\u001b[39m(\u001b[39mself\u001b[39m, item: Hashable) \u001b[39m-\u001b[39m\u001b[39m>\u001b[39m Series \u001b[39m|\u001b[39m Any:\n\u001b[1;32m--> 853\u001b[0m     result \u001b[39m=\u001b[39m \u001b[39mself\u001b[39;49m[item]\n\u001b[0;32m    854\u001b[0m     \u001b[39mdel\u001b[39;00m \u001b[39mself\u001b[39m[item]\n\u001b[0;32m    856\u001b[0m     \u001b[39mreturn\u001b[39;00m result\n",
      "File \u001b[1;32m~\\AppData\\Roaming\\Python\\Python39\\site-packages\\pandas\\core\\frame.py:3761\u001b[0m, in \u001b[0;36mDataFrame.__getitem__\u001b[1;34m(self, key)\u001b[0m\n\u001b[0;32m   3759\u001b[0m \u001b[39mif\u001b[39;00m \u001b[39mself\u001b[39m\u001b[39m.\u001b[39mcolumns\u001b[39m.\u001b[39mnlevels \u001b[39m>\u001b[39m \u001b[39m1\u001b[39m:\n\u001b[0;32m   3760\u001b[0m     \u001b[39mreturn\u001b[39;00m \u001b[39mself\u001b[39m\u001b[39m.\u001b[39m_getitem_multilevel(key)\n\u001b[1;32m-> 3761\u001b[0m indexer \u001b[39m=\u001b[39m \u001b[39mself\u001b[39;49m\u001b[39m.\u001b[39;49mcolumns\u001b[39m.\u001b[39;49mget_loc(key)\n\u001b[0;32m   3762\u001b[0m \u001b[39mif\u001b[39;00m is_integer(indexer):\n\u001b[0;32m   3763\u001b[0m     indexer \u001b[39m=\u001b[39m [indexer]\n",
      "File \u001b[1;32m~\\AppData\\Roaming\\Python\\Python39\\site-packages\\pandas\\core\\indexes\\base.py:3655\u001b[0m, in \u001b[0;36mIndex.get_loc\u001b[1;34m(self, key)\u001b[0m\n\u001b[0;32m   3653\u001b[0m     \u001b[39mreturn\u001b[39;00m \u001b[39mself\u001b[39m\u001b[39m.\u001b[39m_engine\u001b[39m.\u001b[39mget_loc(casted_key)\n\u001b[0;32m   3654\u001b[0m \u001b[39mexcept\u001b[39;00m \u001b[39mKeyError\u001b[39;00m \u001b[39mas\u001b[39;00m err:\n\u001b[1;32m-> 3655\u001b[0m     \u001b[39mraise\u001b[39;00m \u001b[39mKeyError\u001b[39;00m(key) \u001b[39mfrom\u001b[39;00m \u001b[39merr\u001b[39;00m\n\u001b[0;32m   3656\u001b[0m \u001b[39mexcept\u001b[39;00m \u001b[39mTypeError\u001b[39;00m:\n\u001b[0;32m   3657\u001b[0m     \u001b[39m# If we have a listlike key, _check_indexing_error will raise\u001b[39;00m\n\u001b[0;32m   3658\u001b[0m     \u001b[39m#  InvalidIndexError. Otherwise we fall through and re-raise\u001b[39;00m\n\u001b[0;32m   3659\u001b[0m     \u001b[39m#  the TypeError.\u001b[39;00m\n\u001b[0;32m   3660\u001b[0m     \u001b[39mself\u001b[39m\u001b[39m.\u001b[39m_check_indexing_error(key)\n",
      "\u001b[1;31mKeyError\u001b[0m: 'Day'"
     ]
    }
   ],
   "source": [
    "df = pd.DataFrame({'Date' : ['2023-09-15', '2023-09-16', '2023-09-17'],\n",
    "                   'High' : [21,22,23],\n",
    "                   'Low' : [15,16,17],\n",
    "                   'Volume' : [1200,2300,2400],\n",
    "                   'Close' : [22,26,29]\n",
    "                   })\n",
    "\n",
    "df0 = DataPrep(df).extract_date()\n",
    "df0 = DataPrep(df).extact_changes()\n",
    "df0"
   ]
  }
 ],
 "metadata": {
  "kernelspec": {
   "display_name": "base",
   "language": "python",
   "name": "python3"
  },
  "language_info": {
   "codemirror_mode": {
    "name": "ipython",
    "version": 3
   },
   "file_extension": ".py",
   "mimetype": "text/x-python",
   "name": "python",
   "nbconvert_exporter": "python",
   "pygments_lexer": "ipython3",
   "version": "3.9.12"
  },
  "orig_nbformat": 4
 },
 "nbformat": 4,
 "nbformat_minor": 2
}
