{
 "cells": [
  {
   "cell_type": "markdown",
   "metadata": {},
   "source": [
    "### Data Preprocessing Module\n",
    "\n",
    "This module includes the class `DataPrep` and the functions that go inside it.\n",
    "Each function will help with specific tasks in data preprocessing and getting the data ready for feature engineering \n",
    "and training the model. \n",
    "\n",
    "We are going to use resources that will help us with data manipulation. This includes libraries such as NumPy and Pandas.\n",
    "\n",
    "\n",
    "There will be specific description for each function and their usage.\n",
    "\n",
    "List of functions in this file:\n"
   ]
  },
  {
   "cell_type": "code",
   "execution_count": 1,
   "metadata": {},
   "outputs": [
    {
     "name": "stderr",
     "output_type": "stream",
     "text": [
      "c:\\ProgramData\\Anaconda3\\lib\\site-packages\\scipy\\__init__.py:146: UserWarning: A NumPy version >=1.16.5 and <1.23.0 is required for this version of SciPy (detected version 1.25.1\n",
      "  warnings.warn(f\"A NumPy version >={np_minversion} and <{np_maxversion}\"\n"
     ]
    }
   ],
   "source": [
    "import numpy as np\n",
    "import pandas as pd\n",
    "from sklearn.experimental import enable_iterative_imputer\n",
    "from sklearn.impute import IterativeImputer"
   ]
  },
  {
   "cell_type": "markdown",
   "metadata": {},
   "source": [
    "### Extract Date\n",
    "This function extracts the year, month, day, and quarter from the `Date` column in the DataFrame that is passed to it as a parameter. \n",
    "\n",
    "The properties related to date are added in order for better readability of the DataFrame and columns."
   ]
  },
  {
   "cell_type": "code",
   "execution_count": 11,
   "metadata": {
    "tags": []
   },
   "outputs": [],
   "source": [
    "class DataPrep:\n",
    "    \n",
    "    def __init__(self, df):\n",
    "        self.df = df\n",
    "\n",
    "    def extract_date(self):\n",
    "        \"\"\"\n",
    "        Extract the date from the DataFrame and merge the columns back into the DataFrame\n",
    "\n",
    "        Parameters: \n",
    "            self.df (DataFrame): DataFrame containing the stock price data.\n",
    "\n",
    "        Parameter constraints:\n",
    "            Should have a column 'date'\n",
    "            The format of the date should be valid\n",
    "\n",
    "        Returns:\n",
    "            DataFrame: The modified DataFrame with 'year', 'month', 'day, and 'quarter' added as new columns\n",
    "        \"\"\"\n",
    "        # Setting the Date column to Panda's datetime format\n",
    "        self.df['Date'] = pd.to_datetime(self.df['Date'])\n",
    "\n",
    "        #Extracting the year and adding it after 'Date' column\n",
    "        self.df['Year'] = self.df['Date'].dt.year\n",
    "        index_date = self.df.columns.get_loc('Date')\n",
    "        self.df.insert(index_date + 1, 'Year', self.df.pop('Year'))\n",
    "\n",
    "        # Extracting the month and adding it after 'Year' column\n",
    "        self.df['Month'] = self.df['Date'].dt.month\n",
    "        index_year = self.df.columns.get_loc('Year')\n",
    "        self.df.insert(index_year + 1, 'Month', self.df.pop('Month'))\n",
    "\n",
    "        # Extracting the day and adding it after 'Month' column\n",
    "        self.df['Day of Week'] = self.df['Date'].dt.dayofweek\n",
    "        index_month = self.df.columns.get_loc('Month')\n",
    "        self.df.insert(index_month + 1, 'Day of Week', self.df.pop('Day of Week'))\n",
    "\n",
    "        # Extracting the quarter and adding it after 'Day' column\n",
    "        self.df['Quarter'] = self.df['Date'].dt.quarter\n",
    "        index_day = self.df.columns.get_loc('Day of Week')\n",
    "        self.df.insert(index_day + 1, 'Quarter', self.df.pop('Quarter'))\n",
    "\n",
    "        return self.df\n",
    "    \n",
    "    def handle_missing_data(self):\n",
    "        \"\"\"\n",
    "        This function will check for any null values in our dataset and handles it with sklearn's iterative imputation\n",
    "\n",
    "        Parameteres:\n",
    "            self.df (DataFrame): DataFrame containing the stock price data.\n",
    "\n",
    "        Returns:\n",
    "            The modified DataFrame with all the missing values handled.\n",
    "        \"\"\"\n",
    "        # Taking the columns containing missing values\n",
    "        columns_with_missing_value = self.df.columns[self.df.isnull().any()].tolist()\n",
    "\n",
    "        # Initiating an iterative imputer object as imputer\n",
    "        imputer = IterativeImputer(max_iter=10, random_state=42)\n",
    "\n",
    "        # Fitting the columns with missing values to the imputer\n",
    "        imputer.fit(self.df[columns_with_missing_value])\n",
    "\n",
    "        # Get the imputed data from the imputer and transforimg the columns with the imputed data\n",
    "        imputed_data = imputer.fit_transform(self.df[columns_with_missing_value])\n",
    "\n",
    "        # Replacing the columns with missing values with the columns containing imputed data\n",
    "        self.df[columns_with_missing_value] = imputed_data\n",
    "\n",
    "        return self.df"
   ]
  },
  {
   "cell_type": "markdown",
   "metadata": {},
   "source": [
    "### _The code blocks below is for testing the class and its functions_\n"
   ]
  },
  {
   "cell_type": "code",
   "execution_count": 8,
   "metadata": {},
   "outputs": [
    {
     "data": {
      "text/html": [
       "<div>\n",
       "<style scoped>\n",
       "    .dataframe tbody tr th:only-of-type {\n",
       "        vertical-align: middle;\n",
       "    }\n",
       "\n",
       "    .dataframe tbody tr th {\n",
       "        vertical-align: top;\n",
       "    }\n",
       "\n",
       "    .dataframe thead th {\n",
       "        text-align: right;\n",
       "    }\n",
       "</style>\n",
       "<table border=\"1\" class=\"dataframe\">\n",
       "  <thead>\n",
       "    <tr style=\"text-align: right;\">\n",
       "      <th></th>\n",
       "      <th>Date</th>\n",
       "      <th>Year</th>\n",
       "      <th>Month</th>\n",
       "      <th>Day of Week</th>\n",
       "      <th>Quarter</th>\n",
       "      <th>High</th>\n",
       "      <th>Low</th>\n",
       "      <th>Volume</th>\n",
       "      <th>Close</th>\n",
       "    </tr>\n",
       "  </thead>\n",
       "  <tbody>\n",
       "    <tr>\n",
       "      <th>0</th>\n",
       "      <td>2023-09-15</td>\n",
       "      <td>2023</td>\n",
       "      <td>9</td>\n",
       "      <td>4</td>\n",
       "      <td>3</td>\n",
       "      <td>21</td>\n",
       "      <td>15</td>\n",
       "      <td>1200</td>\n",
       "      <td>22</td>\n",
       "    </tr>\n",
       "    <tr>\n",
       "      <th>1</th>\n",
       "      <td>2023-09-16</td>\n",
       "      <td>2023</td>\n",
       "      <td>9</td>\n",
       "      <td>5</td>\n",
       "      <td>3</td>\n",
       "      <td>22</td>\n",
       "      <td>16</td>\n",
       "      <td>2300</td>\n",
       "      <td>26</td>\n",
       "    </tr>\n",
       "    <tr>\n",
       "      <th>2</th>\n",
       "      <td>2023-09-17</td>\n",
       "      <td>2023</td>\n",
       "      <td>9</td>\n",
       "      <td>6</td>\n",
       "      <td>3</td>\n",
       "      <td>23</td>\n",
       "      <td>17</td>\n",
       "      <td>2400</td>\n",
       "      <td>29</td>\n",
       "    </tr>\n",
       "  </tbody>\n",
       "</table>\n",
       "</div>"
      ],
      "text/plain": [
       "        Date  Year  Month  Day of Week  Quarter  High  Low  Volume  Close\n",
       "0 2023-09-15  2023      9            4        3    21   15    1200     22\n",
       "1 2023-09-16  2023      9            5        3    22   16    2300     26\n",
       "2 2023-09-17  2023      9            6        3    23   17    2400     29"
      ]
     },
     "execution_count": 8,
     "metadata": {},
     "output_type": "execute_result"
    }
   ],
   "source": [
    "df = pd.DataFrame({'Date' : ['2023-09-15', '2023-09-16', '2023-09-17'],\n",
    "                   'High' : [21,22,23],\n",
    "                   'Low' : [15,16,17],\n",
    "                   'Volume' : [1200,2300,2400],\n",
    "                   'Close' : [22,26,29]\n",
    "                   })\n",
    "\n",
    "df0 = DataPrep(df).extract_date()\n",
    "df0\n"
   ]
  },
  {
   "cell_type": "code",
   "execution_count": 9,
   "metadata": {},
   "outputs": [
    {
     "data": {
      "text/html": [
       "<div>\n",
       "<style scoped>\n",
       "    .dataframe tbody tr th:only-of-type {\n",
       "        vertical-align: middle;\n",
       "    }\n",
       "\n",
       "    .dataframe tbody tr th {\n",
       "        vertical-align: top;\n",
       "    }\n",
       "\n",
       "    .dataframe thead th {\n",
       "        text-align: right;\n",
       "    }\n",
       "</style>\n",
       "<table border=\"1\" class=\"dataframe\">\n",
       "  <thead>\n",
       "    <tr style=\"text-align: right;\">\n",
       "      <th></th>\n",
       "      <th>Age</th>\n",
       "      <th>Income</th>\n",
       "    </tr>\n",
       "  </thead>\n",
       "  <tbody>\n",
       "    <tr>\n",
       "      <th>0</th>\n",
       "      <td>25.00</td>\n",
       "      <td>45000.000000</td>\n",
       "    </tr>\n",
       "    <tr>\n",
       "      <th>1</th>\n",
       "      <td>30.00</td>\n",
       "      <td>60000.000000</td>\n",
       "    </tr>\n",
       "    <tr>\n",
       "      <th>2</th>\n",
       "      <td>26.25</td>\n",
       "      <td>46666.667486</td>\n",
       "    </tr>\n",
       "    <tr>\n",
       "      <th>3</th>\n",
       "      <td>22.00</td>\n",
       "      <td>35000.000000</td>\n",
       "    </tr>\n",
       "    <tr>\n",
       "      <th>4</th>\n",
       "      <td>28.00</td>\n",
       "      <td>46666.669946</td>\n",
       "    </tr>\n",
       "  </tbody>\n",
       "</table>\n",
       "</div>"
      ],
      "text/plain": [
       "     Age        Income\n",
       "0  25.00  45000.000000\n",
       "1  30.00  60000.000000\n",
       "2  26.25  46666.667486\n",
       "3  22.00  35000.000000\n",
       "4  28.00  46666.669946"
      ]
     },
     "execution_count": 9,
     "metadata": {},
     "output_type": "execute_result"
    }
   ],
   "source": [
    "\n",
    "data = pd.DataFrame({\n",
    "    'Age': [25, 30, np.nan, 22, 28],\n",
    "    'Income': [45000, 60000, np.nan, 35000, np.nan],\n",
    "})\n",
    "\n",
    "data0 = DataPrep(data)\n",
    "data0.handle_missing_data()"
   ]
  }
 ],
 "metadata": {
  "kernelspec": {
   "display_name": "base",
   "language": "python",
   "name": "python3"
  },
  "language_info": {
   "codemirror_mode": {
    "name": "ipython",
    "version": 3
   },
   "file_extension": ".py",
   "mimetype": "text/x-python",
   "name": "python",
   "nbconvert_exporter": "python",
   "pygments_lexer": "ipython3",
   "version": "3.9.12"
  },
  "orig_nbformat": 4
 },
 "nbformat": 4,
 "nbformat_minor": 2
}
