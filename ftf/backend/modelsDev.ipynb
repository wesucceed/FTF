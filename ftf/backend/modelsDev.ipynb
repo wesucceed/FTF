{
 "cells": [
  {
   "cell_type": "markdown",
   "metadata": {},
   "source": [
    "### Models Development Module"
   ]
  },
  {
   "cell_type": "code",
   "execution_count": null,
   "metadata": {},
   "outputs": [],
   "source": [
    "import FeatEng\n",
    "import pandas as pd\n",
    "\n",
    "df = pd.DataFrame({'Date' : ['2023-09-15', '2023-09-16', '2023-09-17'],\n",
    "                   'High' : [21,22,23],\n",
    "                   'Low' : [15,16,17],\n",
    "                   'Volume' : [1200,2300,2400],\n",
    "                   'Close' : [22,26,29]\n",
    "                   })\n",
    "\n",
    "df1 = FeatEng.DataPrep.DataPrep(df)\n",
    "df1.handle_missing_data()\n",
    "df1.extract_date()"
   ]
  }
 ],
 "metadata": {
  "kernelspec": {
   "display_name": "base",
   "language": "python",
   "name": "python3"
  },
  "language_info": {
   "codemirror_mode": {
    "name": "ipython",
    "version": 3
   },
   "file_extension": ".py",
   "mimetype": "text/x-python",
   "name": "python",
   "nbconvert_exporter": "python",
   "pygments_lexer": "ipython3",
   "version": "3.9.12"
  },
  "orig_nbformat": 4
 },
 "nbformat": 4,
 "nbformat_minor": 2
}
