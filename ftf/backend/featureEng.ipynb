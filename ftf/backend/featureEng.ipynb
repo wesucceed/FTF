{
 "cells": [
  {
   "cell_type": "code",
   "execution_count": null,
   "metadata": {},
   "outputs": [],
   "source": [
    "class featureEng:\n",
    "\n",
    "    def __init__(self, df):\n",
    "        self.df = df\n",
    "\n",
    "    #The definition of the function extract_changes\n",
    "    def extact_changes(self):\n",
    "        \"\"\" \n",
    "        Extracts the precentage, daily, and difference changes of high, low, volume, and close in the DataFrame. \n",
    "\n",
    "        Parameters: \n",
    "            self.df (DataFrame): DataFrame containing the stock price data.\n",
    "        \n",
    "        Parameter Constraints:\n",
    "            Should have the columns high, low, volume, and close\n",
    "        \n",
    "        Returns:\n",
    "            A new DataFrame with the columns 'Daily Range', 'Volume Change', and 'Price Increase' added to previous DataFrame  \n",
    "        \"\"\"\n",
    "        # Making a daily range ou\n",
    "        self.df['Daily Range'] = self.df['High'] - self.df['Low']\n",
    "        index_low = self.df.columns.get_loc('Low')\n",
    "        self.df.insert(index_low + 1, 'Daily Range', self.df.pop('Daily Range'))\n",
    "        \n",
    "        self.df['Volume Change'] = self.df['Volume'].pct_change()\n",
    "        index_volume = self.df.columns.get_loc('Volume')\n",
    "        self.df.insert(index_volume + 1, 'Volume Change', self.df.pop('Volume Change'))\n",
    "\n",
    "        self.df['Close Price Increase'] = (self.df['Close'] > self.df['Close'].shift(1)).astype(int)\n",
    "        index_close = self.df.columns.get_loc('Close')\n",
    "        self.df.insert(index_close + 1, 'Close Price Increase', self.df.pop('Close Price Increase'))\n",
    "\n",
    "        return self.df"
   ]
  }
 ],
 "metadata": {
  "language_info": {
   "name": "python"
  },
  "orig_nbformat": 4
 },
 "nbformat": 4,
 "nbformat_minor": 2
}
